{
 "metadata": {
  "language_info": {
   "codemirror_mode": {
    "name": "ipython",
    "version": 3
   },
   "file_extension": ".py",
   "mimetype": "text/x-python",
   "name": "python",
   "nbconvert_exporter": "python",
   "pygments_lexer": "ipython3",
   "version": "3.8.8"
  },
  "orig_nbformat": 2,
  "kernelspec": {
   "name": "python388jvsc74a57bd0b1a082f7dfecc1415527445dd9a1a5626765c7fd79f0a3c031797eb15e01ab01",
   "display_name": "Python 3.8.8 64-bit ('tf': conda)"
  }
 },
 "nbformat": 4,
 "nbformat_minor": 2,
 "cells": [
  {
   "source": [
    "# Taxi-v3 project"
   ],
   "cell_type": "markdown",
   "metadata": {}
  },
  {
   "source": [
    "## Project Details\n",
    "Actions: ['n', 'w', 'e', 's', 'p', 'd']\n",
    "state var: taxi loc, passenger loc\n",
    "\n",
    "When the episode starts, the taxi starts off at a random square and the passenger is at a random location. \n",
    "The taxi drives to the passenger's location, picks up the passenger, drives to the passenger's destination \n",
    "(another one of the four specified locations), and then drops off the passenger. Once the passenger is dropped off, \n",
    "the episode ends.\n",
    "\n",
    "    Rewards:\n",
    "    There is a default per-step reward of -1,\n",
    "    except for delivering the passenger, which is +20,\n",
    "    or executing \"pickup\" and \"drop-off\" actions illegally, which is -10.\n",
    "\n",
    "    Passenger locations:\n",
    "    - 0: R(ed)\n",
    "    - 1: G(reen)\n",
    "    - 2: Y(ellow)\n",
    "    - 3: B(lue)\n",
    "    - 4: in taxi\n",
    "\n",
    "    Destinations:\n",
    "    - 0: R(ed)\n",
    "    - 1: G(reen)\n",
    "    - 2: Y(ellow)\n",
    "    - 3: B(lue)\n",
    "\n",
    "    Actions:\n",
    "    There are 6 discrete deterministic actions:\n",
    "    - 0: move south\n",
    "    - 1: move north\n",
    "    - 2: move east\n",
    "    - 3: move west\n",
    "    - 4: pickup passenger\n",
    "    - 5: drop off passenger\n",
    "\n"
   ],
   "cell_type": "markdown",
   "metadata": {}
  },
  {
   "source": [
    "## Dependency packages"
   ],
   "cell_type": "markdown",
   "metadata": {}
  },
  {
   "cell_type": "code",
   "execution_count": 53,
   "metadata": {},
   "outputs": [],
   "source": [
    "import numpy as np\n",
    "import pandas as pd\n",
    "import random"
   ]
  },
  {
   "cell_type": "code",
   "execution_count": 54,
   "metadata": {},
   "outputs": [],
   "source": [
    "MAP = [\n",
    "    \"+---------+\",\n",
    "    \"|R: | : :G|\",\n",
    "    \"| : | : : |\",\n",
    "    \"| : : : : |\",\n",
    "    \"| | : | : |\",\n",
    "    \"|Y| : |B: |\",\n",
    "    \"+---------+\",\n",
    "]\n",
    "n_rows = 5\n",
    "n_columns = 5\n",
    "total_dest_loc = 4\n",
    "total_states = 500\n",
    "dest_idx_array = {'R': 0, 'G': 1, 'Y': 2, 'B': 3}\n"
   ]
  },
  {
   "cell_type": "code",
   "execution_count": 71,
   "metadata": {},
   "outputs": [],
   "source": [
    "class taxi_v3:\n",
    "\n",
    "    def encode(self, taxi_row, taxi_col, pass_loc, dest_idx):\n",
    "        # (5) 5, 5, 4\n",
    "        i = taxi_row\n",
    "        i *= 5\n",
    "        i += taxi_col\n",
    "        i *= 5\n",
    "        i += pass_loc\n",
    "        i *= 4\n",
    "        i += dest_idx\n",
    "        return i\n",
    "\n",
    "    def decode(self, i):\n",
    "        out = []\n",
    "        out.append(i % 4)\n",
    "        i = i // 4\n",
    "        out.append(i % 5)\n",
    "        i = i // 5\n",
    "        out.append(i % 5)\n",
    "        i = i // 5\n",
    "        out.append(i)\n",
    "        assert i >= 0 or i < 5\n",
    "        return reversed(out)\n",
    "\n",
    "    def _loc_to_dest_idx(self, i, j):\n",
    "        index = i * n_columns + j\n",
    "        for loc, dest_idx in self.loc_dest_array.items():\n",
    "            if (loc == index):\n",
    "                return dest_idx\n",
    "        return -1\n",
    "\n",
    "    def __init__(self):\n",
    "        self.done = False\n",
    "        self.actions = ['n', 'w', 'e', 's', 'p', 'd']\n",
    "        self.table = pd.DataFrame({s: {a : None for a in self.actions} for s in range(total_states)})\n",
    "        self.terminal_states = {}\n",
    "        self.loc_dest_array = {}\n",
    "        self.rewards_tbl = {'default': -1, 'illegal_pick': -10, 'illegal_drop': -10, 'success': +20, 'outside': -40}\n",
    "\n",
    "    def _get_next_state(self, state, action):\n",
    "        taxi_row, taxi_col, pass_loc, dest_idx = self.decode(state)\n",
    "        done = False\n",
    "        if (action == 'p'):\n",
    "            if (pass_loc != 4 and  self._loc_to_dest_idx(taxi_row, taxi_col) == pass_loc):\n",
    "                pass_loc = 4\n",
    "        elif (action == 'd'):\n",
    "            if (pass_loc == 4 and self._loc_to_dest_idx(taxi_row, taxi_col) == dest_idx):\n",
    "                done = True\n",
    "                return state, done\n",
    "        else:\n",
    "            movement = {'s': (+1, 0), 'n': (-1, 0), 'e': (0, +1), 'w': (0, -1)}\n",
    "            if (taxi_row * n_columns + taxi_col, action) in self.terminal_states.items():\n",
    "                done = True\n",
    "                return state, done\n",
    "            \n",
    "            row_delta, col_delta = movement[action]\n",
    "            taxi_row, taxi_col = taxi_row + row_delta, taxi_col + col_delta\n",
    "            if (taxi_row < 0 or taxi_row >= n_rows):\n",
    "                done = True\n",
    "                return state, done\n",
    "            if (taxi_col < 0 or taxi_col >= n_columns):\n",
    "                done = True\n",
    "                return state, done\n",
    "      \n",
    "        next_state = self.encode(taxi_row, taxi_col, pass_loc, dest_idx)\n",
    "        return (next_state, done)\n",
    "\n",
    "\n",
    "    def step(self, action):\n",
    "        if self.done:\n",
    "            assert \"done is True. Step cannot be used\"\n",
    "        \n",
    "        next_state, done = self._get_next_state(self.state, action)\n",
    "        reward = self._get_rewards_for_transistion(self.state, action, next_state)\n",
    "        \n",
    "        self.done = done\n",
    "        self.state = next_state\n",
    "        return next_state, reward, done\n",
    "\n",
    "    def serialize(self, Map):\n",
    "        i = 0\n",
    "        j = 0\n",
    "        size = len(Map)\n",
    "        for map_row in range(1, size - 1):\n",
    "            row_str = Map[map_row]\n",
    "            str_size = len(row_str)\n",
    "            j = 0\n",
    "            for idx in range(1, str_size - 1):\n",
    "                if (row_str[idx] == ':'):\n",
    "                    continue\n",
    "                elif (row_str[idx] == '|'):\n",
    "                    self.terminal_states[i * n_columns + j - 1] = 'e'\n",
    "                    self.terminal_states[i * n_columns + j] = 'w'\n",
    "                elif (row_str[idx] == ' '):\n",
    "                    j = j + 1\n",
    "                else:\n",
    "                    print(i,j)\n",
    "                    self.loc_dest_array[i * n_columns + j] = dest_idx_array[row_str[idx]]\n",
    "                    j = j + 1\n",
    "            i = i + 1\n",
    "\n",
    "    def set_rewards(self, rewards):\n",
    "        for keys,val in rewards:\n",
    "            self.rewards_tbl[keys] = val\n",
    "\n",
    "    def _get_rewards_for_transistion(self, state, action, next_state):\n",
    "         taxi_row, taxi_col, pass_loc, dest_idx = self.decode(state)\n",
    "         if (action == 'p'):\n",
    "            #print('pass_loc: {} current_loc: {}'.format(pass_loc, self._loc_to_dest_idx(taxi_row, taxi_col)))\n",
    "            if (pass_loc != 4 and self._loc_to_dest_idx(taxi_row, taxi_col) == pass_loc):\n",
    "                return self.rewards_tbl['default']\n",
    "            else:\n",
    "                return self.rewards_tbl['illegal_pick']\n",
    "         elif (action == 'd'):\n",
    "            if (pass_loc == 4 and self._loc_to_dest_idx(taxi_row, taxi_col) == dest_idx):\n",
    "                return self.rewards_tbl['success']\n",
    "            else:\n",
    "                return self.rewards_tbl['illegal_drop']\n",
    "         else:\n",
    "             if (state == next_state):\n",
    "                 return self.rewards_tbl['outside']\n",
    "             else:\n",
    "                return self.rewards_tbl['default']\n",
    "       \n",
    "    def reset(self):\n",
    "        self.done = False       \n",
    "        pass_loc = random.randint(0, total_dest_loc - 1)\n",
    "        dest_idx = random.randint(0, total_dest_loc - 1)\n",
    "        taxi_row = random.randint(0, n_rows - 1)\n",
    "        taxi_col = random.randint(0, n_columns - 1)\n",
    "\n",
    "        self.state = self.encode(taxi_row, taxi_col, pass_loc, dest_idx)\n",
    "        return self.state\n",
    "    \n",
    "    def render(self):\n",
    "        taxi_row, taxi_col, pass_loc, dest_idx = self.decode(self.state)\n",
    "\n",
    "    def run_episode(self, action_list):\n",
    "        self.reset()\n",
    "\n",
    "        for action in action_list:\n",
    "            if self.done:\n",
    "                break\n",
    "            next_state, reward, done = self.step(action)\n",
    "            state = next_state\n",
    "    \n",
    "    def print_fn(self, state):\n",
    "        taxi_row, taxi_col, pass_loc, dest_idx = self.decode(state)\n",
    "        dest_idx_row = 0\n",
    "        dest_idx_col = 0\n",
    "        for key,value in self.loc_dest_array.items():\n",
    "            if (value == dest_idx):\n",
    "                dest_idx_row = key // n_columns\n",
    "                dest_idx_col = key  % n_columns\n",
    "                break\n",
    "        \n",
    "        pass_loc_row = 0\n",
    "        pass_loc_col = 0\n",
    "        if pass_loc != 4:\n",
    "            for key,value in self.loc_dest_array.items():\n",
    "                if (value == pass_loc):\n",
    "                    pass_loc_row = key // n_columns\n",
    "                    pass_loc_col = key % n_columns\n",
    "                    break\n",
    "        else:\n",
    "            pass_loc_row = taxi_row\n",
    "            pass_loc_col = taxi_col\n",
    "        print(\"taxi_loc: ({},{}) pass_loc: ({},{}) dest_idx:({}, {})\".format(taxi_row, taxi_col, pass_loc_row, pass_loc_col, dest_idx_row, dest_idx_col))\n"
   ]
  },
  {
   "cell_type": "code",
   "execution_count": 72,
   "metadata": {},
   "outputs": [
    {
     "output_type": "stream",
     "name": "stdout",
     "text": [
      "0 0\n0 4\n4 0\n4 3\n{0: 0, 4: 1, 20: 2, 23: 3}\n"
     ]
    }
   ],
   "source": [
    "taxi = taxi_v3()\n",
    "taxi.serialize(MAP)\n",
    "print(taxi.loc_dest_array)"
   ]
  },
  {
   "cell_type": "code",
   "execution_count": 73,
   "metadata": {},
   "outputs": [
    {
     "output_type": "stream",
     "name": "stdout",
     "text": [
      "0 1 e\n0 2 w\n1 1 e\n1 2 w\n3 0 e\n3 1 w\n3 2 e\n3 3 w\n4 0 e\n4 1 w\n4 2 e\n4 3 w\n+---------+\n|R: | : :G|\n| : | : : |\n| : : : : |\n| | : | : |\n|Y| : |B: |\n+---------+\n2 4 2 1\n"
     ]
    }
   ],
   "source": [
    "for key,value in taxi.terminal_states.items():\n",
    "    i = key//n_columns\n",
    "    j = key%n_columns\n",
    "    print(i,j,value)\n",
    "\n",
    "for str in MAP:\n",
    "    print(str)\n",
    "\n",
    "taxi.reset()\n",
    "print(*taxi.decode(taxi.state))\n"
   ]
  },
  {
   "cell_type": "code",
   "execution_count": 74,
   "metadata": {},
   "outputs": [
    {
     "output_type": "stream",
     "name": "stdout",
     "text": [
      "3 4 2 1\n"
     ]
    }
   ],
   "source": [
    "next_state, reward, done = taxi.step('s')\n",
    "print(*taxi.decode(next_state))\n"
   ]
  },
  {
   "cell_type": "code",
   "execution_count": 75,
   "metadata": {},
   "outputs": [],
   "source": [
    "action_list = ['s', 'e', 'w', 'e', 's']\n",
    "taxi.run_episode(action_list)"
   ]
  },
  {
   "cell_type": "code",
   "execution_count": 76,
   "metadata": {
    "tags": []
   },
   "outputs": [],
   "source": [
    "#SARSA \n",
    "ESTIMATED_RETURNS_TBL = pd.DataFrame.from_dict({s : {a: 0 for a in taxi.actions} for s in range(total_states)}, orient='index')\n",
    "epsilon = 1\n",
    "min_epsilon = 0.1\n",
    "n_episodes = 7000\n",
    "epsilon_decay = 0.999\n",
    "alpha = 0.1\n",
    "gamma = 0.9\n",
    "\n",
    "for _ in range(n_episodes):\n",
    "    s0 = taxi.reset()\n",
    "\n",
    "    estimated_returns = ESTIMATED_RETURNS_TBL\n",
    "    epsilon = max(epsilon, min_epsilon)\n",
    "    action_probs = np.asarray([epsilon/len(taxi.actions)] * len(taxi.actions), dtype=np.float)\n",
    "    greedy_action_idx = np.argmax(estimated_returns.loc[s0].values)\n",
    "    action_probs[greedy_action_idx] += (1 - epsilon)\n",
    "    a0 = np.random.choice(estimated_returns.columns, p=action_probs)\n",
    "    done = False\n",
    "\n",
    "    while not done:\n",
    "        s1, reward, done = taxi.step(a0)\n",
    "        action_probs = np.asarray([epsilon/len(taxi.actions)] * len(taxi.actions), dtype=float)\n",
    "        greedy_action_idx = np.argmax(estimated_returns.loc[s1].values)\n",
    "        action_probs[greedy_action_idx] += (1 - epsilon)\n",
    "        a1 = np.random.choice(estimated_returns.columns, p=action_probs)\n",
    "\n",
    "        ESTIMATED_RETURNS_TBL.loc[s0, a0] += alpha *(reward - ESTIMATED_RETURNS_TBL.loc[s0, a0] + gamma * ESTIMATED_RETURNS_TBL.loc[s1, a1])\n",
    "        s0, a0 = s1, a1\n",
    "\n",
    "    epsilon = epsilon * epsilon_decay\n"
   ]
  },
  {
   "cell_type": "code",
   "execution_count": 77,
   "metadata": {},
   "outputs": [
    {
     "output_type": "stream",
     "name": "stdout",
     "text": [
      "              n          w          e          s          p          d\n100   87.138743 -12.993648  -2.560788  -2.746460  -4.110631  -3.820798\n101   -4.772861 -27.520045   4.225246  -4.587018  -6.818161  -5.181064\n102   39.919459 -11.957632  -1.395254   2.145898  -3.280610   7.328422\n103   13.097634 -22.579701  -2.971116  -0.574683  -3.361025  -1.920953\n104   -7.225044 -11.520383  -7.031660  -6.824117  -9.530649  -8.230299\n..          ...        ...        ...        ...        ...        ...\n195   -3.231512  -3.207618 -26.368920  36.239950  -5.426645  -7.191364\n196   -0.566573   1.940070 -12.512062  33.097720  -1.404752   2.305188\n197  109.735807  24.365036  47.271442  51.590858  61.645514  57.894336\n198    1.757685   1.247614 -17.225710  -2.467735  -3.609919  -2.592829\n199    7.188877  22.242811 -14.429943  -0.518699  -2.729886  -2.800000\n\n[100 rows x 6 columns]\n"
     ]
    }
   ],
   "source": [
    "print(ESTIMATED_RETURNS_TBL[100: 200])"
   ]
  },
  {
   "cell_type": "code",
   "execution_count": 82,
   "metadata": {},
   "outputs": [
    {
     "output_type": "stream",
     "name": "stdout",
     "text": [
      "['+---------+', '|R: | : :G|', '| : | : : |', '| : : : : |', '| | : | : |', '|Y| : |B: |', '+---------+']\ntaxi_loc: (2,1) pass_loc: (0,0) dest_idx:(4, 3)\naction performed: w\ntaxi_loc: (2,0) pass_loc: (0,0) dest_idx:(4, 3)\naction performed: n\ntaxi_loc: (1,0) pass_loc: (0,0) dest_idx:(4, 3)\naction performed: n\ntaxi_loc: (0,0) pass_loc: (0,0) dest_idx:(4, 3)\naction performed: p\ntaxi_loc: (0,0) pass_loc: (0,0) dest_idx:(4, 3)\naction performed: s\ntaxi_loc: (1,0) pass_loc: (1,0) dest_idx:(4, 3)\naction performed: e\ntaxi_loc: (1,1) pass_loc: (1,1) dest_idx:(4, 3)\naction performed: s\ntaxi_loc: (2,1) pass_loc: (2,1) dest_idx:(4, 3)\naction performed: e\ntaxi_loc: (2,2) pass_loc: (2,2) dest_idx:(4, 3)\naction performed: e\ntaxi_loc: (2,3) pass_loc: (2,3) dest_idx:(4, 3)\naction performed: s\ntaxi_loc: (3,3) pass_loc: (3,3) dest_idx:(4, 3)\naction performed: s\ntaxi_loc: (4,3) pass_loc: (4,3) dest_idx:(4, 3)\naction performed: d\ntaxi_loc: (4,3) pass_loc: (4,3) dest_idx:(4, 3)\n"
     ]
    }
   ],
   "source": [
    "print(MAP)\n",
    "state = taxi.reset()\n",
    "taxi.print_fn(state)\n",
    "done = False\n",
    "action_list = []\n",
    "while not done:\n",
    "    action = ESTIMATED_RETURNS_TBL.loc[state].idxmax()\n",
    "\n",
    "    print(\"action performed: {}\".format(action))\n",
    "    next_state, reward, done = taxi.step(action)\n",
    "    taxi.print_fn(next_state)\n",
    "    state = next_state\n",
    "\n"
   ]
  },
  {
   "cell_type": "code",
   "execution_count": 68,
   "metadata": {},
   "outputs": [
    {
     "output_type": "stream",
     "name": "stdout",
     "text": [
      "{1: 'e', 2: 'w', 6: 'e', 7: 'w', 15: 'e', 16: 'w', 17: 'e', 18: 'w', 20: 'e', 21: 'w', 22: 'e', 23: 'w'}\nTrue\n"
     ]
    }
   ],
   "source": [
    "print(taxi.terminal_states)\n",
    "print((16, 'w') in taxi.terminal_states.items())"
   ]
  },
  {
   "cell_type": "code",
   "execution_count": 1,
   "metadata": {},
   "outputs": [],
   "source": [
    "import gym"
   ]
  },
  {
   "cell_type": "code",
   "execution_count": 2,
   "metadata": {},
   "outputs": [],
   "source": [
    "taxi = gym.make('Taxi-v3')"
   ]
  },
  {
   "cell_type": "code",
   "execution_count": null,
   "metadata": {},
   "outputs": [],
   "source": []
  }
 ]
}